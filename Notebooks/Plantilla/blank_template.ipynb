{
 "cells": [
  {
   "cell_type": "markdown",
   "metadata": {},
   "source": [
    "# Template for a Data Science & IA Bootcamp"
   ]
  },
  {
   "cell_type": "markdown",
   "metadata": {},
   "source": [
    "---"
   ]
  },
  {
   "cell_type": "markdown",
   "metadata": {},
   "source": [
    "## Sección 0.  Configuración inicial"
   ]
  },
  {
   "cell_type": "code",
   "execution_count": null,
   "metadata": {},
   "outputs": [],
   "source": [
    "# Importación de librerías actualizadas\n",
    "import pandas as pd\n",
    "import numpy as np\n",
    "import matplotlib.pyplot as plt\n",
    "import seaborn as sns\n",
    "from ydata_profiling import ProfileReport\n",
    "import os\n",
    "\n",
    "# Configuraciones generales\n",
    "%matplotlib inline\n",
    "sns.set_theme(style=\"whitegrid\")\n",
    "plt.rcParams['figure.figsize'] = (10, 6)"
   ]
  },
  {
   "cell_type": "markdown",
   "metadata": {},
   "source": [
    "---"
   ]
  },
  {
   "cell_type": "markdown",
   "metadata": {},
   "source": [
    "## Sección 1: Flexibilidad y Generalización"
   ]
  },
  {
   "cell_type": "markdown",
   "metadata": {},
   "source": [
    "### 1.1. Parámetros configurables\n",
    "\n",
    "Definimos los parámetros que el usuario puede configurar para la aplicación."
   ]
  },
  {
   "cell_type": "code",
   "execution_count": null,
   "metadata": {},
   "outputs": [],
   "source": [
    "# Parámetros configurables\n",
    "RUTA_ARCHIVO = '<--->'     # Reemplaza con la ruta a tu archivo\n",
    "SEPARADOR = ','                                     # Cambia el separador si es necesario (por ejemplo, ';' para archivos CSV europeos)\n",
    "ENCODING = 'utf-8'                                  # Especifica la codificación del archivo si es necesario"
   ]
  },
  {
   "cell_type": "markdown",
   "metadata": {},
   "source": [
    "### 1.2. Función para Cargar los datos\n",
    "Creamos una función que detecte el formato del archivo y lo cargue adecuadamente."
   ]
  },
  {
   "cell_type": "code",
   "execution_count": null,
   "metadata": {},
   "outputs": [],
   "source": [
    "def cargar_datos(ruta_archivo, separador=',', encoding='utf-8'):\n",
    "    \"\"\"\n",
    "    Carga datos desde un archivo CSV, Excel o JSON.\n",
    "    \n",
    "    Parámetros:\n",
    "        ruta_archivo (str): Ruta al archivo de datos.\n",
    "        separador (str): Separador utilizado en el archivo CSV.\n",
    "        encoding (str): Codificación del archivo.\n",
    "        \n",
    "    Retorna:\n",
    "        DataFrame de pandas con los datos cargados.\n",
    "    \"\"\"\n",
    "    extension = os.path.splitext(ruta_archivo)[1].lower()\n",
    "    if extension == '.csv':\n",
    "        df = pd.read_csv(ruta_archivo, sep=separador, encoding=encoding)\n",
    "    elif extension in ['.xls', '.xlsx']:\n",
    "        df = pd.read_excel(ruta_archivo)\n",
    "    elif extension == '.json':\n",
    "        df = pd.read_json(ruta_archivo)\n",
    "    else:\n",
    "        raise ValueError(\"Formato de archivo no soportado. Utiliza CSV, Excel o JSON.\")\n",
    "    return df"
   ]
  },
  {
   "cell_type": "markdown",
   "metadata": {},
   "source": [
    "### 1.3. Carga de Datos\n",
    "Utilizamos la función para cargar datos."
   ]
  },
  {
   "cell_type": "code",
   "execution_count": null,
   "metadata": {},
   "outputs": [],
   "source": [
    "# Cargar datos\n",
    "df = cargar_datos(RUTA_ARCHIVO, SEPARADOR, ENCODING)"
   ]
  },
  {
   "cell_type": "markdown",
   "metadata": {},
   "source": [
    "---\n"
   ]
  },
  {
   "cell_type": "markdown",
   "metadata": {},
   "source": [
    "## Sección 2: Análisis Exploratorio de Datos (EDA)"
   ]
  },
  {
   "cell_type": "markdown",
   "metadata": {},
   "source": [
    "### 2.1. Información General del Dataset\n",
    "\n",
    "Obtenemos información básica sobre el dataset.\n"
   ]
  },
  {
   "cell_type": "code",
   "execution_count": null,
   "metadata": {},
   "outputs": [],
   "source": [
    "# Dimensiones del dataset\n",
    "print(f\"El dataset contiene {df.shape[0]} filas y {df.shape[1]} columnas.\")\n",
    "\n",
    "# Vista previa de los datos\n",
    "df.head()\n"
   ]
  },
  {
   "cell_type": "markdown",
   "metadata": {},
   "source": [
    "### 2.2. Tipos de Datos\n",
    "Revisamos los tipos de datos de cada columna."
   ]
  },
  {
   "cell_type": "code",
   "execution_count": null,
   "metadata": {},
   "outputs": [],
   "source": [
    "# Tipos de datos\n",
    "df.info()"
   ]
  },
  {
   "cell_type": "markdown",
   "metadata": {},
   "source": [
    "### 2.3. Estadísticas Descriptivas\n"
   ]
  },
  {
   "cell_type": "markdown",
   "metadata": {},
   "source": [
    "#### 2.3.1. Variables Numéticas"
   ]
  },
  {
   "cell_type": "code",
   "execution_count": null,
   "metadata": {},
   "outputs": [],
   "source": [
    "# Estadísticas descriptivas de variables numéricas\n",
    "df.describe()"
   ]
  },
  {
   "cell_type": "markdown",
   "metadata": {},
   "source": [
    "#### 2.3.2. Variables Categóricas"
   ]
  },
  {
   "cell_type": "code",
   "execution_count": null,
   "metadata": {},
   "outputs": [],
   "source": [
    "# Estadísticas descriptivas de variables categóricas\n",
    "df.describe(include=['object', 'category'])\n"
   ]
  },
  {
   "cell_type": "markdown",
   "metadata": {},
   "source": [
    "### 2.4 Valores Nulos\n",
    "Creamos una función para resumir los valores nulos."
   ]
  },
  {
   "cell_type": "code",
   "execution_count": null,
   "metadata": {},
   "outputs": [],
   "source": [
    "def resumen_valores_nulos(df):\n",
    "    nulos = df.isnull().sum()\n",
    "    porcentaje = (nulos / len(df)) * 100\n",
    "    resumen = pd.DataFrame({'Valores Nulos': nulos, 'Porcentaje (%)': porcentaje})\n",
    "    resumen = resumen[resumen['Valores Nulos'] > 0].sort_values('Porcentaje (%)', ascending=False)\n",
    "    return resumen\n",
    "\n",
    "# Uso de la función\n",
    "resumen_nulos = resumen_valores_nulos(df)\n",
    "resumen_nulos\n"
   ]
  },
  {
   "cell_type": "markdown",
   "metadata": {},
   "source": [
    "### 2.5. Visualizaciones Iniciales"
   ]
  },
  {
   "cell_type": "markdown",
   "metadata": {},
   "source": [
    "#### 2.5.1. Variables Numéricas\n",
    "Creamos una función para graficar histogramas y diagramas de caja para variables numéricas."
   ]
  },
  {
   "cell_type": "code",
   "execution_count": null,
   "metadata": {},
   "outputs": [],
   "source": [
    "def graficar_variables_numericas(df):\n",
    "    numericas = df.select_dtypes(include=['int64', 'float64']).columns\n",
    "    for col in numericas:\n",
    "        fig, axes = plt.subplots(1, 2, figsize=(12, 4))\n",
    "        sns.histplot(df[col].dropna(), ax=axes[0], kde=True, color='skyblue')\n",
    "        axes[0].set_title(f'Histograma de {col}')\n",
    "        sns.boxplot(x=df[col], ax=axes[1], color='lightgreen')\n",
    "        axes[1].set_title(f'Diagrama de Caja de {col}')\n",
    "        plt.tight_layout()\n",
    "        plt.show()\n",
    "\n",
    "# Uso de la función\n",
    "graficar_variables_numericas(df)\n"
   ]
  },
  {
   "cell_type": "markdown",
   "metadata": {},
   "source": [
    "#### 2.5.2. Variables Categóricas\n",
    "Graficamos las frecuencias de las variables categóricas."
   ]
  },
  {
   "cell_type": "code",
   "execution_count": null,
   "metadata": {},
   "outputs": [],
   "source": [
    "def graficar_variables_categoricas(df):\n",
    "    categoricas = df.select_dtypes(include=['object', 'category']).columns\n",
    "    for col in categoricas:\n",
    "        plt.figure(figsize=(8, 4))\n",
    "        orden = df[col].value_counts().index\n",
    "        sns.countplot(data=df, x=col, order=orden, palette='viridis')\n",
    "        plt.xticks(rotation=45)\n",
    "        plt.title(f'Conteo de {col}')\n",
    "        plt.tight_layout()\n",
    "        plt.show()\n",
    "\n",
    "# Uso de la función\n",
    "graficar_variables_categoricas(df)\n"
   ]
  },
  {
   "cell_type": "markdown",
   "metadata": {},
   "source": [
    "### 2.6. Matriz de Correlación\n",
    "Calculamos y visualizamos la matriz de correlación."
   ]
  },
  {
   "cell_type": "code",
   "execution_count": null,
   "metadata": {},
   "outputs": [],
   "source": [
    "# Matriz de correlación\n",
    "corr_matrix = df.select_dtypes(include=['int64', 'float64']).corr()\n",
    "\n",
    "# Visualización\n",
    "plt.figure(figsize=(10, 8))\n",
    "sns.heatmap(corr_matrix, annot=True, cmap='coolwarm', fmt=\".2f\")\n",
    "plt.title('Matriz de Correlación')\n",
    "plt.show()\n"
   ]
  },
  {
   "cell_type": "markdown",
   "metadata": {},
   "source": [
    "### 2.7. Detección de Valores Atípicos\n",
    "Implementamos la detección de outliers usando el rango intercuartílico (IQR)."
   ]
  },
  {
   "cell_type": "code",
   "execution_count": null,
   "metadata": {},
   "outputs": [],
   "source": [
    "def detectar_outliers_iqr(df):\n",
    "    numericas = df.select_dtypes(include=['int64', 'float64']).columns\n",
    "    outliers = {}\n",
    "    for col in numericas:\n",
    "        Q1 = df[col].quantile(0.25)\n",
    "        Q3 = df[col].quantile(0.75)\n",
    "        IQR = Q3 - Q1\n",
    "        limite_inferior = Q1 - 1.5 * IQR\n",
    "        limite_superior = Q3 + 1.5 * IQR\n",
    "        outliers_col = df[(df[col] < limite_inferior) | (df[col] > limite_superior)]\n",
    "        outliers[col] = outliers_col\n",
    "        print(f\"{col}: {len(outliers_col)} outliers detectados.\")\n",
    "    return outliers\n",
    "\n",
    "# Uso de la función\n",
    "outliers_detectados = detectar_outliers_iqr(df)\n"
   ]
  },
  {
   "cell_type": "markdown",
   "metadata": {},
   "source": [
    "---\n"
   ]
  },
  {
   "cell_type": "markdown",
   "metadata": {},
   "source": [
    "## Sección 3: Preprocesamiento de Datos"
   ]
  },
  {
   "cell_type": "markdown",
   "metadata": {},
   "source": [
    "#### 3.1. Manejo de Valores Nulos\n",
    "Implemantamos estrategias para manejar valores nulos en nuestros datos."
   ]
  },
  {
   "cell_type": "markdown",
   "metadata": {},
   "source": [
    "##### 3.1.1. Imputación de Variables Numéricas"
   ]
  },
  {
   "cell_type": "code",
   "execution_count": null,
   "metadata": {},
   "outputs": [],
   "source": [
    "def imputar_numericas(df, metodo='media'):\n",
    "    numericas = df.select_dtypes(include=['int64', 'float64']).columns\n",
    "    for col in numericas:\n",
    "        if df[col].isnull().sum() > 0:\n",
    "            if metodo == 'media':\n",
    "                valor_imputacion = df[col].mean()\n",
    "            elif metodo == 'mediana':\n",
    "                valor_imputacion = df[col].median()\n",
    "            df[col].fillna(valor_imputacion, inplace=True)\n",
    "    return df\n",
    "\n",
    "# Uso de la función\n",
    "df = imputar_numericas(df, metodo='media')\n"
   ]
  },
  {
   "cell_type": "markdown",
   "metadata": {},
   "source": [
    "##### 3.1.2. Imputación de Variables Categóricas"
   ]
  },
  {
   "cell_type": "code",
   "execution_count": null,
   "metadata": {},
   "outputs": [],
   "source": [
    "def imputar_categoricas(df, metodo='moda'):\n",
    "    categoricas = df.select_dtypes(include=['object', 'category']).columns\n",
    "    for col in categoricas:\n",
    "        if df[col].isnull().sum() > 0:\n",
    "            if metodo == 'moda':\n",
    "                valor_imputacion = df[col].mode()[0]\n",
    "            elif metodo == 'desconocido':\n",
    "                valor_imputacion = 'Desconocido'\n",
    "            df[col].fillna(valor_imputacion, inplace=True)\n",
    "    return df\n",
    "\n",
    "# Uso de la función\n",
    "df = imputar_categoricas(df, metodo='moda')\n"
   ]
  },
  {
   "cell_type": "markdown",
   "metadata": {},
   "source": [
    "### 3.2. Codificación de Variables Categóricas\n",
    "Implementamos la codificación de variables categóricas utilizando One-Hot Encoding."
   ]
  },
  {
   "cell_type": "code",
   "execution_count": null,
   "metadata": {},
   "outputs": [],
   "source": [
    "def codificar_categoricas(df):\n",
    "    categoricas = df.select_dtypes(include=['object', 'category']).columns\n",
    "    df = pd.get_dummies(df, columns=categoricas, drop_first=True)\n",
    "    return df\n",
    "\n",
    "# Uso de la función\n",
    "df = codificar_categoricas(df)"
   ]
  },
  {
   "cell_type": "markdown",
   "metadata": {},
   "source": [
    "### 3.3. Escalado de Variables Numéricas\n",
    "Aplicamos escalado estándar a las variables numéticas."
   ]
  },
  {
   "cell_type": "code",
   "execution_count": null,
   "metadata": {},
   "outputs": [],
   "source": [
    "from sklearn.preprocessing import StandardScaler\n",
    "\n",
    "def escalar_numericas(df):\n",
    "    numericas = df.select_dtypes(include=['int64', 'float64']).columns\n",
    "    scaler = StandardScaler()\n",
    "    df[numericas] = scaler.fit_transform(df[numericas])\n",
    "    return df\n",
    "\n",
    "# Uso de la función\n",
    "df = escalar_numericas(df)\n"
   ]
  },
  {
   "cell_type": "markdown",
   "metadata": {},
   "source": [
    "---"
   ]
  },
  {
   "cell_type": "markdown",
   "metadata": {},
   "source": [
    "## Sección 4: Automatización y Personalización"
   ]
  },
  {
   "cell_type": "markdown",
   "metadata": {},
   "source": [
    "### 4.1 Parámetros adicionales configurables"
   ]
  },
  {
   "cell_type": "code",
   "execution_count": null,
   "metadata": {},
   "outputs": [],
   "source": [
    "# Umbral para eliminar columnas con alto porcentaje de valores nulos\n",
    "UMBRALES_NULOS = 50  # Porcentaje máximo permitido\n",
    "\n",
    "# Decisión de eliminar o imputar valores nulos\n",
    "ELIMINAR_COLUMNAS_NULOS = False  # True para eliminar, False para imputar\n"
   ]
  },
  {
   "cell_type": "markdown",
   "metadata": {},
   "source": [
    "### 4.2. Implementación de Lógica Condicional\n",
    "Podemos incluir lógica para eliminar columnas con muchos valores nulos."
   ]
  },
  {
   "cell_type": "code",
   "execution_count": null,
   "metadata": {},
   "outputs": [],
   "source": [
    "def manejar_columnas_nulas(df, umbral=50, eliminar=False):\n",
    "    resumen_nulos = resumen_valores_nulos(df)\n",
    "    columnas_a_eliminar = resumen_nulos[resumen_nulos['Porcentaje (%)'] > umbral].index\n",
    "    if eliminar:\n",
    "        df.drop(columns=columnas_a_eliminar, inplace=True)\n",
    "        print(f\"Se eliminaron {len(columnas_a_eliminar)} columnas con más del {umbral}% de valores nulos.\")\n",
    "    else:\n",
    "        print(f\"Columnas con más del {umbral}% de valores nulos: {list(columnas_a_eliminar)}\")\n",
    "    return df\n",
    "\n",
    "# Uso de la función\n",
    "df = manejar_columnas_nulas(df, umbral=UMBRALES_NULOS, eliminar=ELIMINAR_COLUMNAS_NULOS)\n"
   ]
  },
  {
   "cell_type": "markdown",
   "metadata": {},
   "source": [
    "## Sección 5: Documentación y Reportes\n",
    "\n",
    "**Instalación de pandas-profiling**\n",
    "\n",
    "Si aún no lo tienes instalado, puedes instalarlo usando:\n",
    "\n",
    "```bash\n",
    "pip install pandas-profiling\n",
    "```"
   ]
  },
  {
   "cell_type": "markdown",
   "metadata": {},
   "source": [
    "### Generación del Reporte"
   ]
  },
  {
   "cell_type": "code",
   "execution_count": null,
   "metadata": {},
   "outputs": [],
   "source": [
    "# Generación del reporte\n",
    "perfil = ProfileReport(df, title='Reporte del Dataset', explorative=True)\n",
    "\n",
    "# Mostrar el reporte en el notebook\n",
    "perfil.to_notebook_iframe()"
   ]
  },
  {
   "cell_type": "markdown",
   "metadata": {},
   "source": [
    "### Exportar el Reporte a HTML"
   ]
  },
  {
   "cell_type": "code",
   "execution_count": null,
   "metadata": {},
   "outputs": [],
   "source": [
    "# Exportar el reporte a un archivo HTML\n",
    "perfil.to_file('reporte_dataset.html')"
   ]
  }
 ],
 "metadata": {
  "kernelspec": {
   "display_name": ".env",
   "language": "python",
   "name": "python3"
  },
  "language_info": {
   "codemirror_mode": {
    "name": "ipython",
    "version": 3
   },
   "file_extension": ".py",
   "mimetype": "text/x-python",
   "name": "python",
   "nbconvert_exporter": "python",
   "pygments_lexer": "ipython3",
   "version": "3.10.12"
  }
 },
 "nbformat": 4,
 "nbformat_minor": 2
}
