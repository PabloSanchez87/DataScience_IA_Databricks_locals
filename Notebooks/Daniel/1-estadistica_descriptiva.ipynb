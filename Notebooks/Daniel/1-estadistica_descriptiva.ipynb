{
 "cells": [
  {
   "cell_type": "code",
   "execution_count": 3,
   "metadata": {},
   "outputs": [],
   "source": [
    "import pandas as pd\n",
    "import matplotlib.pyplot as plt\n",
    "\n",
    "salaries_df = pd.read_csv(\"../resources/ds_salaries.csv\", index_col=0)\n"
   ]
  },
  {
   "cell_type": "code",
   "execution_count": 4,
   "metadata": {},
   "outputs": [
    {
     "data": {
      "text/html": [
       "<div>\n",
       "<style scoped>\n",
       "    .dataframe tbody tr th:only-of-type {\n",
       "        vertical-align: middle;\n",
       "    }\n",
       "\n",
       "    .dataframe tbody tr th {\n",
       "        vertical-align: top;\n",
       "    }\n",
       "\n",
       "    .dataframe thead th {\n",
       "        text-align: right;\n",
       "    }\n",
       "</style>\n",
       "<table border=\"1\" class=\"dataframe\">\n",
       "  <thead>\n",
       "    <tr style=\"text-align: right;\">\n",
       "      <th></th>\n",
       "      <th>work_year</th>\n",
       "      <th>experience_level</th>\n",
       "      <th>employment_type</th>\n",
       "      <th>job_title</th>\n",
       "      <th>salary</th>\n",
       "      <th>salary_currency</th>\n",
       "      <th>salary_in_usd</th>\n",
       "      <th>employee_residence</th>\n",
       "      <th>remote_ratio</th>\n",
       "      <th>company_location</th>\n",
       "      <th>company_size</th>\n",
       "    </tr>\n",
       "  </thead>\n",
       "  <tbody>\n",
       "    <tr>\n",
       "      <th>0</th>\n",
       "      <td>2020</td>\n",
       "      <td>MI</td>\n",
       "      <td>FT</td>\n",
       "      <td>Data Scientist</td>\n",
       "      <td>70000</td>\n",
       "      <td>EUR</td>\n",
       "      <td>79833</td>\n",
       "      <td>DE</td>\n",
       "      <td>0</td>\n",
       "      <td>DE</td>\n",
       "      <td>L</td>\n",
       "    </tr>\n",
       "    <tr>\n",
       "      <th>1</th>\n",
       "      <td>2020</td>\n",
       "      <td>SE</td>\n",
       "      <td>FT</td>\n",
       "      <td>Machine Learning Scientist</td>\n",
       "      <td>260000</td>\n",
       "      <td>USD</td>\n",
       "      <td>260000</td>\n",
       "      <td>JP</td>\n",
       "      <td>0</td>\n",
       "      <td>JP</td>\n",
       "      <td>S</td>\n",
       "    </tr>\n",
       "    <tr>\n",
       "      <th>2</th>\n",
       "      <td>2020</td>\n",
       "      <td>SE</td>\n",
       "      <td>FT</td>\n",
       "      <td>Big Data Engineer</td>\n",
       "      <td>85000</td>\n",
       "      <td>GBP</td>\n",
       "      <td>109024</td>\n",
       "      <td>GB</td>\n",
       "      <td>50</td>\n",
       "      <td>GB</td>\n",
       "      <td>M</td>\n",
       "    </tr>\n",
       "    <tr>\n",
       "      <th>3</th>\n",
       "      <td>2020</td>\n",
       "      <td>MI</td>\n",
       "      <td>FT</td>\n",
       "      <td>Product Data Analyst</td>\n",
       "      <td>20000</td>\n",
       "      <td>USD</td>\n",
       "      <td>20000</td>\n",
       "      <td>HN</td>\n",
       "      <td>0</td>\n",
       "      <td>HN</td>\n",
       "      <td>S</td>\n",
       "    </tr>\n",
       "    <tr>\n",
       "      <th>4</th>\n",
       "      <td>2020</td>\n",
       "      <td>SE</td>\n",
       "      <td>FT</td>\n",
       "      <td>Machine Learning Engineer</td>\n",
       "      <td>150000</td>\n",
       "      <td>USD</td>\n",
       "      <td>150000</td>\n",
       "      <td>US</td>\n",
       "      <td>50</td>\n",
       "      <td>US</td>\n",
       "      <td>L</td>\n",
       "    </tr>\n",
       "    <tr>\n",
       "      <th>5</th>\n",
       "      <td>2020</td>\n",
       "      <td>EN</td>\n",
       "      <td>FT</td>\n",
       "      <td>Data Analyst</td>\n",
       "      <td>72000</td>\n",
       "      <td>USD</td>\n",
       "      <td>72000</td>\n",
       "      <td>US</td>\n",
       "      <td>100</td>\n",
       "      <td>US</td>\n",
       "      <td>L</td>\n",
       "    </tr>\n",
       "    <tr>\n",
       "      <th>6</th>\n",
       "      <td>2020</td>\n",
       "      <td>SE</td>\n",
       "      <td>FT</td>\n",
       "      <td>Lead Data Scientist</td>\n",
       "      <td>190000</td>\n",
       "      <td>USD</td>\n",
       "      <td>190000</td>\n",
       "      <td>US</td>\n",
       "      <td>100</td>\n",
       "      <td>US</td>\n",
       "      <td>S</td>\n",
       "    </tr>\n",
       "    <tr>\n",
       "      <th>7</th>\n",
       "      <td>2020</td>\n",
       "      <td>MI</td>\n",
       "      <td>FT</td>\n",
       "      <td>Data Scientist</td>\n",
       "      <td>11000000</td>\n",
       "      <td>HUF</td>\n",
       "      <td>35735</td>\n",
       "      <td>HU</td>\n",
       "      <td>50</td>\n",
       "      <td>HU</td>\n",
       "      <td>L</td>\n",
       "    </tr>\n",
       "    <tr>\n",
       "      <th>8</th>\n",
       "      <td>2020</td>\n",
       "      <td>MI</td>\n",
       "      <td>FT</td>\n",
       "      <td>Business Data Analyst</td>\n",
       "      <td>135000</td>\n",
       "      <td>USD</td>\n",
       "      <td>135000</td>\n",
       "      <td>US</td>\n",
       "      <td>100</td>\n",
       "      <td>US</td>\n",
       "      <td>L</td>\n",
       "    </tr>\n",
       "    <tr>\n",
       "      <th>9</th>\n",
       "      <td>2020</td>\n",
       "      <td>SE</td>\n",
       "      <td>FT</td>\n",
       "      <td>Lead Data Engineer</td>\n",
       "      <td>125000</td>\n",
       "      <td>USD</td>\n",
       "      <td>125000</td>\n",
       "      <td>NZ</td>\n",
       "      <td>50</td>\n",
       "      <td>NZ</td>\n",
       "      <td>S</td>\n",
       "    </tr>\n",
       "  </tbody>\n",
       "</table>\n",
       "</div>"
      ],
      "text/plain": [
       "   work_year experience_level employment_type                   job_title  \\\n",
       "0       2020               MI              FT              Data Scientist   \n",
       "1       2020               SE              FT  Machine Learning Scientist   \n",
       "2       2020               SE              FT           Big Data Engineer   \n",
       "3       2020               MI              FT        Product Data Analyst   \n",
       "4       2020               SE              FT   Machine Learning Engineer   \n",
       "5       2020               EN              FT                Data Analyst   \n",
       "6       2020               SE              FT         Lead Data Scientist   \n",
       "7       2020               MI              FT              Data Scientist   \n",
       "8       2020               MI              FT       Business Data Analyst   \n",
       "9       2020               SE              FT          Lead Data Engineer   \n",
       "\n",
       "     salary salary_currency  salary_in_usd employee_residence  remote_ratio  \\\n",
       "0     70000             EUR          79833                 DE             0   \n",
       "1    260000             USD         260000                 JP             0   \n",
       "2     85000             GBP         109024                 GB            50   \n",
       "3     20000             USD          20000                 HN             0   \n",
       "4    150000             USD         150000                 US            50   \n",
       "5     72000             USD          72000                 US           100   \n",
       "6    190000             USD         190000                 US           100   \n",
       "7  11000000             HUF          35735                 HU            50   \n",
       "8    135000             USD         135000                 US           100   \n",
       "9    125000             USD         125000                 NZ            50   \n",
       "\n",
       "  company_location company_size  \n",
       "0               DE            L  \n",
       "1               JP            S  \n",
       "2               GB            M  \n",
       "3               HN            S  \n",
       "4               US            L  \n",
       "5               US            L  \n",
       "6               US            S  \n",
       "7               HU            L  \n",
       "8               US            L  \n",
       "9               NZ            S  "
      ]
     },
     "execution_count": 4,
     "metadata": {},
     "output_type": "execute_result"
    }
   ],
   "source": [
    "salaries_df.head(10)"
   ]
  },
  {
   "cell_type": "code",
   "execution_count": 5,
   "metadata": {},
   "outputs": [
    {
     "name": "stdout",
     "output_type": "stream",
     "text": [
      "<class 'pandas.core.frame.DataFrame'>\n",
      "Int64Index: 607 entries, 0 to 606\n",
      "Data columns (total 11 columns):\n",
      " #   Column              Non-Null Count  Dtype \n",
      "---  ------              --------------  ----- \n",
      " 0   work_year           607 non-null    int64 \n",
      " 1   experience_level    607 non-null    object\n",
      " 2   employment_type     607 non-null    object\n",
      " 3   job_title           607 non-null    object\n",
      " 4   salary              607 non-null    int64 \n",
      " 5   salary_currency     607 non-null    object\n",
      " 6   salary_in_usd       607 non-null    int64 \n",
      " 7   employee_residence  607 non-null    object\n",
      " 8   remote_ratio        607 non-null    int64 \n",
      " 9   company_location    607 non-null    object\n",
      " 10  company_size        607 non-null    object\n",
      "dtypes: int64(4), object(7)\n",
      "memory usage: 56.9+ KB\n"
     ]
    }
   ],
   "source": [
    "salaries_df.info()"
   ]
  },
  {
   "cell_type": "code",
   "execution_count": 6,
   "metadata": {},
   "outputs": [
    {
     "data": {
      "text/plain": [
       "(607, 11)"
      ]
     },
     "execution_count": 6,
     "metadata": {},
     "output_type": "execute_result"
    }
   ],
   "source": [
    "### Número de registros\n",
    "salaries_df.shape"
   ]
  },
  {
   "cell_type": "code",
   "execution_count": 7,
   "metadata": {},
   "outputs": [
    {
     "data": {
      "text/plain": [
       "Index(['work_year', 'experience_level', 'employment_type', 'job_title',\n",
       "       'salary', 'salary_currency', 'salary_in_usd', 'employee_residence',\n",
       "       'remote_ratio', 'company_location', 'company_size'],\n",
       "      dtype='object')"
      ]
     },
     "execution_count": 7,
     "metadata": {},
     "output_type": "execute_result"
    }
   ],
   "source": [
    "salaries_df.columns"
   ]
  },
  {
   "cell_type": "code",
   "execution_count": 8,
   "metadata": {},
   "outputs": [
    {
     "data": {
      "text/html": [
       "<div>\n",
       "<style scoped>\n",
       "    .dataframe tbody tr th:only-of-type {\n",
       "        vertical-align: middle;\n",
       "    }\n",
       "\n",
       "    .dataframe tbody tr th {\n",
       "        vertical-align: top;\n",
       "    }\n",
       "\n",
       "    .dataframe thead th {\n",
       "        text-align: right;\n",
       "    }\n",
       "</style>\n",
       "<table border=\"1\" class=\"dataframe\">\n",
       "  <thead>\n",
       "    <tr style=\"text-align: right;\">\n",
       "      <th></th>\n",
       "      <th>work_year</th>\n",
       "      <th>experience_level</th>\n",
       "      <th>employment_type</th>\n",
       "      <th>job_title</th>\n",
       "      <th>salary</th>\n",
       "      <th>salary_currency</th>\n",
       "      <th>salary_in_usd</th>\n",
       "      <th>employee_residence</th>\n",
       "      <th>remote_ratio</th>\n",
       "      <th>company_location</th>\n",
       "      <th>company_size</th>\n",
       "    </tr>\n",
       "  </thead>\n",
       "  <tbody>\n",
       "    <tr>\n",
       "      <th>count</th>\n",
       "      <td>607.000000</td>\n",
       "      <td>607</td>\n",
       "      <td>607</td>\n",
       "      <td>607</td>\n",
       "      <td>6.070000e+02</td>\n",
       "      <td>607</td>\n",
       "      <td>607.000000</td>\n",
       "      <td>607</td>\n",
       "      <td>607.00000</td>\n",
       "      <td>607</td>\n",
       "      <td>607</td>\n",
       "    </tr>\n",
       "    <tr>\n",
       "      <th>unique</th>\n",
       "      <td>NaN</td>\n",
       "      <td>4</td>\n",
       "      <td>4</td>\n",
       "      <td>50</td>\n",
       "      <td>NaN</td>\n",
       "      <td>17</td>\n",
       "      <td>NaN</td>\n",
       "      <td>57</td>\n",
       "      <td>NaN</td>\n",
       "      <td>50</td>\n",
       "      <td>3</td>\n",
       "    </tr>\n",
       "    <tr>\n",
       "      <th>top</th>\n",
       "      <td>NaN</td>\n",
       "      <td>SE</td>\n",
       "      <td>FT</td>\n",
       "      <td>Data Scientist</td>\n",
       "      <td>NaN</td>\n",
       "      <td>USD</td>\n",
       "      <td>NaN</td>\n",
       "      <td>US</td>\n",
       "      <td>NaN</td>\n",
       "      <td>US</td>\n",
       "      <td>M</td>\n",
       "    </tr>\n",
       "    <tr>\n",
       "      <th>freq</th>\n",
       "      <td>NaN</td>\n",
       "      <td>280</td>\n",
       "      <td>588</td>\n",
       "      <td>143</td>\n",
       "      <td>NaN</td>\n",
       "      <td>398</td>\n",
       "      <td>NaN</td>\n",
       "      <td>332</td>\n",
       "      <td>NaN</td>\n",
       "      <td>355</td>\n",
       "      <td>326</td>\n",
       "    </tr>\n",
       "    <tr>\n",
       "      <th>mean</th>\n",
       "      <td>2021.405272</td>\n",
       "      <td>NaN</td>\n",
       "      <td>NaN</td>\n",
       "      <td>NaN</td>\n",
       "      <td>3.240001e+05</td>\n",
       "      <td>NaN</td>\n",
       "      <td>112297.869852</td>\n",
       "      <td>NaN</td>\n",
       "      <td>70.92257</td>\n",
       "      <td>NaN</td>\n",
       "      <td>NaN</td>\n",
       "    </tr>\n",
       "    <tr>\n",
       "      <th>std</th>\n",
       "      <td>0.692133</td>\n",
       "      <td>NaN</td>\n",
       "      <td>NaN</td>\n",
       "      <td>NaN</td>\n",
       "      <td>1.544357e+06</td>\n",
       "      <td>NaN</td>\n",
       "      <td>70957.259411</td>\n",
       "      <td>NaN</td>\n",
       "      <td>40.70913</td>\n",
       "      <td>NaN</td>\n",
       "      <td>NaN</td>\n",
       "    </tr>\n",
       "    <tr>\n",
       "      <th>min</th>\n",
       "      <td>2020.000000</td>\n",
       "      <td>NaN</td>\n",
       "      <td>NaN</td>\n",
       "      <td>NaN</td>\n",
       "      <td>4.000000e+03</td>\n",
       "      <td>NaN</td>\n",
       "      <td>2859.000000</td>\n",
       "      <td>NaN</td>\n",
       "      <td>0.00000</td>\n",
       "      <td>NaN</td>\n",
       "      <td>NaN</td>\n",
       "    </tr>\n",
       "    <tr>\n",
       "      <th>25%</th>\n",
       "      <td>2021.000000</td>\n",
       "      <td>NaN</td>\n",
       "      <td>NaN</td>\n",
       "      <td>NaN</td>\n",
       "      <td>7.000000e+04</td>\n",
       "      <td>NaN</td>\n",
       "      <td>62726.000000</td>\n",
       "      <td>NaN</td>\n",
       "      <td>50.00000</td>\n",
       "      <td>NaN</td>\n",
       "      <td>NaN</td>\n",
       "    </tr>\n",
       "    <tr>\n",
       "      <th>50%</th>\n",
       "      <td>2022.000000</td>\n",
       "      <td>NaN</td>\n",
       "      <td>NaN</td>\n",
       "      <td>NaN</td>\n",
       "      <td>1.150000e+05</td>\n",
       "      <td>NaN</td>\n",
       "      <td>101570.000000</td>\n",
       "      <td>NaN</td>\n",
       "      <td>100.00000</td>\n",
       "      <td>NaN</td>\n",
       "      <td>NaN</td>\n",
       "    </tr>\n",
       "    <tr>\n",
       "      <th>75%</th>\n",
       "      <td>2022.000000</td>\n",
       "      <td>NaN</td>\n",
       "      <td>NaN</td>\n",
       "      <td>NaN</td>\n",
       "      <td>1.650000e+05</td>\n",
       "      <td>NaN</td>\n",
       "      <td>150000.000000</td>\n",
       "      <td>NaN</td>\n",
       "      <td>100.00000</td>\n",
       "      <td>NaN</td>\n",
       "      <td>NaN</td>\n",
       "    </tr>\n",
       "    <tr>\n",
       "      <th>max</th>\n",
       "      <td>2022.000000</td>\n",
       "      <td>NaN</td>\n",
       "      <td>NaN</td>\n",
       "      <td>NaN</td>\n",
       "      <td>3.040000e+07</td>\n",
       "      <td>NaN</td>\n",
       "      <td>600000.000000</td>\n",
       "      <td>NaN</td>\n",
       "      <td>100.00000</td>\n",
       "      <td>NaN</td>\n",
       "      <td>NaN</td>\n",
       "    </tr>\n",
       "  </tbody>\n",
       "</table>\n",
       "</div>"
      ],
      "text/plain": [
       "          work_year experience_level employment_type       job_title  \\\n",
       "count    607.000000              607             607             607   \n",
       "unique          NaN                4               4              50   \n",
       "top             NaN               SE              FT  Data Scientist   \n",
       "freq            NaN              280             588             143   \n",
       "mean    2021.405272              NaN             NaN             NaN   \n",
       "std        0.692133              NaN             NaN             NaN   \n",
       "min     2020.000000              NaN             NaN             NaN   \n",
       "25%     2021.000000              NaN             NaN             NaN   \n",
       "50%     2022.000000              NaN             NaN             NaN   \n",
       "75%     2022.000000              NaN             NaN             NaN   \n",
       "max     2022.000000              NaN             NaN             NaN   \n",
       "\n",
       "              salary salary_currency  salary_in_usd employee_residence  \\\n",
       "count   6.070000e+02             607     607.000000                607   \n",
       "unique           NaN              17            NaN                 57   \n",
       "top              NaN             USD            NaN                 US   \n",
       "freq             NaN             398            NaN                332   \n",
       "mean    3.240001e+05             NaN  112297.869852                NaN   \n",
       "std     1.544357e+06             NaN   70957.259411                NaN   \n",
       "min     4.000000e+03             NaN    2859.000000                NaN   \n",
       "25%     7.000000e+04             NaN   62726.000000                NaN   \n",
       "50%     1.150000e+05             NaN  101570.000000                NaN   \n",
       "75%     1.650000e+05             NaN  150000.000000                NaN   \n",
       "max     3.040000e+07             NaN  600000.000000                NaN   \n",
       "\n",
       "        remote_ratio company_location company_size  \n",
       "count      607.00000              607          607  \n",
       "unique           NaN               50            3  \n",
       "top              NaN               US            M  \n",
       "freq             NaN              355          326  \n",
       "mean        70.92257              NaN          NaN  \n",
       "std         40.70913              NaN          NaN  \n",
       "min          0.00000              NaN          NaN  \n",
       "25%         50.00000              NaN          NaN  \n",
       "50%        100.00000              NaN          NaN  \n",
       "75%        100.00000              NaN          NaN  \n",
       "max        100.00000              NaN          NaN  "
      ]
     },
     "execution_count": 8,
     "metadata": {},
     "output_type": "execute_result"
    }
   ],
   "source": [
    "salaries_df.describe(include='all')"
   ]
  },
  {
   "cell_type": "code",
   "execution_count": 9,
   "metadata": {},
   "outputs": [
    {
     "data": {
      "text/plain": [
       "<Axes: >"
      ]
     },
     "execution_count": 9,
     "metadata": {},
     "output_type": "execute_result"
    },
    {
     "data": {
      "image/png": "[encoded data removed]",
      "text/plain": [
       "<Figure size 640x480 with 1 Axes>"
      ]
     },
     "metadata": {},
     "output_type": "display_data"
    }
   ],
   "source": [
    "salaries_df['salary_in_usd'].hist(bins=60)"
   ]
  },
  {
   "cell_type": "code",
   "execution_count": null,
   "metadata": {},
   "outputs": [
    {
     "data": {
      "image/png": "[encoded data removed]",
      "text/plain": [
       "<Figure size 640x480 with 1 Axes>"
      ]
     },
     "metadata": {},
     "output_type": "display_data"
    }
   ],
   "source": [
    "plt.boxplot(salaries_df['salary_in_usd'])\n",
    "plt.title('Salary distribution')\n",
    "plt.show()"
   ]
  },
  {
   "cell_type": "code",
   "execution_count": 11,
   "metadata": {},
   "outputs": [
    {
     "data": {
      "text/plain": [
       "count       607.000000\n",
       "mean     112297.869852\n",
       "std       70957.259411\n",
       "min        2859.000000\n",
       "25%       62726.000000\n",
       "50%      101570.000000\n",
       "75%      150000.000000\n",
       "max      600000.000000\n",
       "Name: salary_in_usd, dtype: float64"
      ]
     },
     "execution_count": 11,
     "metadata": {},
     "output_type": "execute_result"
    }
   ],
   "source": [
    "salaries_df['salary_in_usd'].describe()"
   ]
  },
  {
   "cell_type": "code",
   "execution_count": 12,
   "metadata": {},
   "outputs": [
    {
     "data": {
      "text/plain": [
       "array(['MI', 'SE', 'EN', 'EX'], dtype=object)"
      ]
     },
     "execution_count": 12,
     "metadata": {},
     "output_type": "execute_result"
    }
   ],
   "source": [
    "salaries_df['experience_level'].unique()"
   ]
  },
  {
   "cell_type": "code",
   "execution_count": 13,
   "metadata": {},
   "outputs": [
    {
     "data": {
      "text/plain": [
       "Data Scientist                              143\n",
       "Data Engineer                               132\n",
       "Data Analyst                                 97\n",
       "Machine Learning Engineer                    41\n",
       "Research Scientist                           16\n",
       "Data Science Manager                         12\n",
       "Data Architect                               11\n",
       "Big Data Engineer                             8\n",
       "Machine Learning Scientist                    8\n",
       "Principal Data Scientist                      7\n",
       "AI Scientist                                  7\n",
       "Data Science Consultant                       7\n",
       "Director of Data Science                      7\n",
       "Data Analytics Manager                        7\n",
       "ML Engineer                                   6\n",
       "Computer Vision Engineer                      6\n",
       "BI Data Analyst                               6\n",
       "Lead Data Engineer                            6\n",
       "Data Engineering Manager                      5\n",
       "Business Data Analyst                         5\n",
       "Head of Data                                  5\n",
       "Applied Data Scientist                        5\n",
       "Applied Machine Learning Scientist            4\n",
       "Head of Data Science                          4\n",
       "Analytics Engineer                            4\n",
       "Data Analytics Engineer                       4\n",
       "Machine Learning Developer                    3\n",
       "Machine Learning Infrastructure Engineer      3\n",
       "Lead Data Scientist                           3\n",
       "Computer Vision Software Engineer             3\n",
       "Lead Data Analyst                             3\n",
       "Data Science Engineer                         3\n",
       "Principal Data Engineer                       3\n",
       "Principal Data Analyst                        2\n",
       "ETL Developer                                 2\n",
       "Product Data Analyst                          2\n",
       "Director of Data Engineering                  2\n",
       "Financial Data Analyst                        2\n",
       "Cloud Data Engineer                           2\n",
       "Lead Machine Learning Engineer                1\n",
       "NLP Engineer                                  1\n",
       "Head of Machine Learning                      1\n",
       "3D Computer Vision Researcher                 1\n",
       "Data Specialist                               1\n",
       "Staff Data Scientist                          1\n",
       "Big Data Architect                            1\n",
       "Finance Data Analyst                          1\n",
       "Marketing Data Analyst                        1\n",
       "Machine Learning Manager                      1\n",
       "Data Analytics Lead                           1\n",
       "Name: job_title, dtype: int64"
      ]
     },
     "execution_count": 13,
     "metadata": {},
     "output_type": "execute_result"
    }
   ],
   "source": [
    "salaries_df['job_title'].value_counts()"
   ]
  },
  {
   "cell_type": "code",
   "execution_count": 14,
   "metadata": {},
   "outputs": [
    {
     "data": {
      "text/plain": [
       "SE    280\n",
       "MI    213\n",
       "EN     88\n",
       "EX     26\n",
       "Name: experience_level, dtype: int64"
      ]
     },
     "execution_count": 14,
     "metadata": {},
     "output_type": "execute_result"
    }
   ],
   "source": [
    "# Valores de variables categóricas\n",
    "\n",
    "salaries_df['experience_level'].value_counts()"
   ]
  },
  {
   "cell_type": "code",
   "execution_count": 15,
   "metadata": {},
   "outputs": [
    {
     "data": {
      "image/png": "[encoded data removed]",
      "text/plain": [
       "<Figure size 640x480 with 1 Axes>"
      ]
     },
     "metadata": {},
     "output_type": "display_data"
    }
   ],
   "source": [
    "plt.pie(salaries_df['experience_level'].value_counts(), labels=salaries_df['experience_level'].value_counts().index)\n",
    "plt.show()"
   ]
  },
  {
   "cell_type": "code",
   "execution_count": 16,
   "metadata": {},
   "outputs": [
    {
     "data": {
      "text/plain": [
       "array(['Director of Data Science', 'Data Engineering Manager',\n",
       "       'BI Data Analyst', 'Head of Data', 'Head of Data Science',\n",
       "       'Data Science Consultant', 'Principal Data Scientist',\n",
       "       'Principal Data Engineer', 'Data Engineer', 'Data Analyst',\n",
       "       'Analytics Engineer', 'Lead Data Engineer',\n",
       "       'Head of Machine Learning'], dtype=object)"
      ]
     },
     "execution_count": 16,
     "metadata": {},
     "output_type": "execute_result"
    }
   ],
   "source": [
    "# experience_level = ex --> job_title\n",
    "\n",
    "# Filtrar los registros donde experience_level es 'EX'\n",
    "salaries_df[salaries_df['experience_level'] == 'EX']['job_title'].unique()"
   ]
  }
 ],
 "metadata": {
  "kernelspec": {
   "display_name": ".env",
   "language": "python",
   "name": "python3"
  },
  "language_info": {
   "codemirror_mode": {
    "name": "ipython",
    "version": 3
   },
   "file_extension": ".py",
   "mimetype": "text/x-python",
   "name": "python",
   "nbconvert_exporter": "python",
   "pygments_lexer": "ipython3",
   "version": "3.10.12"
  }
 },
 "nbformat": 4,
 "nbformat_minor": 2
}
